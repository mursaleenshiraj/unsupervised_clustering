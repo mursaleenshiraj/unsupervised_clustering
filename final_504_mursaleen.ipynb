{
 "cells": [
  {
   "cell_type": "code",
   "execution_count": 2,
   "metadata": {
    "collapsed": true
   },
   "outputs": [],
   "source": [
    "import numpy as np\n",
    "import pandas as pd\n",
    "import matplotlib.pyplot as plt\n",
    "from sklearn.cluster import KMeans"
   ]
  },
  {
   "cell_type": "code",
   "execution_count": 3,
   "metadata": {},
   "outputs": [
    {
     "data": {
      "text/html": [
       "<div>\n",
       "<style>\n",
       "    .dataframe thead tr:only-child th {\n",
       "        text-align: right;\n",
       "    }\n",
       "\n",
       "    .dataframe thead th {\n",
       "        text-align: left;\n",
       "    }\n",
       "\n",
       "    .dataframe tbody tr th {\n",
       "        vertical-align: top;\n",
       "    }\n",
       "</style>\n",
       "<table border=\"1\" class=\"dataframe\">\n",
       "  <thead>\n",
       "    <tr style=\"text-align: right;\">\n",
       "      <th></th>\n",
       "      <th>Decade</th>\n",
       "      <th>Year</th>\n",
       "      <th>Commodity</th>\n",
       "      <th>EndUse</th>\n",
       "      <th>Commodityuse</th>\n",
       "      <th>Category</th>\n",
       "      <th>Item</th>\n",
       "      <th>Unit</th>\n",
       "      <th>price</th>\n",
       "    </tr>\n",
       "  </thead>\n",
       "  <tbody>\n",
       "    <tr>\n",
       "      <th>0</th>\n",
       "      <td>1970's</td>\n",
       "      <td>1970</td>\n",
       "      <td>Asparagus</td>\n",
       "      <td>Canning</td>\n",
       "      <td>Asparagus-Canning</td>\n",
       "      <td>Season Average Price</td>\n",
       "      <td>Constant 2009 Dollars</td>\n",
       "      <td>$/cwt</td>\n",
       "      <td>1670.69</td>\n",
       "    </tr>\n",
       "    <tr>\n",
       "      <th>1</th>\n",
       "      <td>1970's</td>\n",
       "      <td>1971</td>\n",
       "      <td>Asparagus</td>\n",
       "      <td>Canning</td>\n",
       "      <td>Asparagus-Canning</td>\n",
       "      <td>Season Average Price</td>\n",
       "      <td>Constant 2009 Dollars</td>\n",
       "      <td>$/cwt</td>\n",
       "      <td>1748.46</td>\n",
       "    </tr>\n",
       "    <tr>\n",
       "      <th>2</th>\n",
       "      <td>1970's</td>\n",
       "      <td>1972</td>\n",
       "      <td>Asparagus</td>\n",
       "      <td>Canning</td>\n",
       "      <td>Asparagus-Canning</td>\n",
       "      <td>Season Average Price</td>\n",
       "      <td>Constant 2009 Dollars</td>\n",
       "      <td>$/cwt</td>\n",
       "      <td>1827.63</td>\n",
       "    </tr>\n",
       "    <tr>\n",
       "      <th>3</th>\n",
       "      <td>1970's</td>\n",
       "      <td>1973</td>\n",
       "      <td>Asparagus</td>\n",
       "      <td>Canning</td>\n",
       "      <td>Asparagus-Canning</td>\n",
       "      <td>Season Average Price</td>\n",
       "      <td>Constant 2009 Dollars</td>\n",
       "      <td>$/cwt</td>\n",
       "      <td>1843.28</td>\n",
       "    </tr>\n",
       "    <tr>\n",
       "      <th>4</th>\n",
       "      <td>1970's</td>\n",
       "      <td>1974</td>\n",
       "      <td>Asparagus</td>\n",
       "      <td>Canning</td>\n",
       "      <td>Asparagus-Canning</td>\n",
       "      <td>Season Average Price</td>\n",
       "      <td>Constant 2009 Dollars</td>\n",
       "      <td>$/cwt</td>\n",
       "      <td>1851.47</td>\n",
       "    </tr>\n",
       "  </tbody>\n",
       "</table>\n",
       "</div>"
      ],
      "text/plain": [
       "   Decade  Year  Commodity   EndUse       Commodityuse              Category  \\\n",
       "0  1970's  1970  Asparagus  Canning  Asparagus-Canning  Season Average Price   \n",
       "1  1970's  1971  Asparagus  Canning  Asparagus-Canning  Season Average Price   \n",
       "2  1970's  1972  Asparagus  Canning  Asparagus-Canning  Season Average Price   \n",
       "3  1970's  1973  Asparagus  Canning  Asparagus-Canning  Season Average Price   \n",
       "4  1970's  1974  Asparagus  Canning  Asparagus-Canning  Season Average Price   \n",
       "\n",
       "                    Item   Unit    price  \n",
       "0  Constant 2009 Dollars  $/cwt  1670.69  \n",
       "1  Constant 2009 Dollars  $/cwt  1748.46  \n",
       "2  Constant 2009 Dollars  $/cwt  1827.63  \n",
       "3  Constant 2009 Dollars  $/cwt  1843.28  \n",
       "4  Constant 2009 Dollars  $/cwt  1851.47  "
      ]
     },
     "execution_count": 3,
     "metadata": {},
     "output_type": "execute_result"
    }
   ],
   "source": [
    "toydata3=pd.read_excel(\"E:/JM/agri prodcuts forecasting/downloaded/VegetablesandpulsesCSV/toy3.xlsx\")\n",
    "toydata3.head()"
   ]
  },
  {
   "cell_type": "code",
   "execution_count": 4,
   "metadata": {},
   "outputs": [
    {
     "data": {
      "text/plain": [
       "(2081, 9)"
      ]
     },
     "execution_count": 4,
     "metadata": {},
     "output_type": "execute_result"
    }
   ],
   "source": [
    "toydata3.shape"
   ]
  },
  {
   "cell_type": "code",
   "execution_count": 5,
   "metadata": {
    "collapsed": true
   },
   "outputs": [],
   "source": [
    "toydata3[\"Year\"]=toydata3[\"Year\"].astype(str)\n",
    "# needed as we later manuever on these"
   ]
  },
  {
   "cell_type": "code",
   "execution_count": 6,
   "metadata": {
    "collapsed": true
   },
   "outputs": [],
   "source": [
    "toydata3reshape=pd.pivot_table(toydata3, values= 'price', index=['Commodityuse'], columns=['Year'], aggfunc=np.sum)\n",
    "# note that some columns are automatically omitted now"
   ]
  },
  {
   "cell_type": "code",
   "execution_count": 7,
   "metadata": {},
   "outputs": [
    {
     "data": {
      "text/plain": [
       "(49, 48)"
      ]
     },
     "execution_count": 7,
     "metadata": {},
     "output_type": "execute_result"
    }
   ],
   "source": [
    "toydata3reshape.shape # see how the shape changes"
   ]
  },
  {
   "cell_type": "code",
   "execution_count": 8,
   "metadata": {},
   "outputs": [
    {
     "name": "stderr",
     "output_type": "stream",
     "text": [
      "C:\\ProgramData\\Anaconda3\\lib\\site-packages\\ipykernel_launcher.py:2: RuntimeWarning: divide by zero encountered in log\n",
      "  \n"
     ]
    }
   ],
   "source": [
    "for item in toydata3reshape.columns:\n",
    "    toydata3reshape[\"logprice\"+item]=np.log(toydata3reshape[item])"
   ]
  },
  {
   "cell_type": "code",
   "execution_count": 9,
   "metadata": {
    "collapsed": true
   },
   "outputs": [],
   "source": [
    "loglist=toydata3reshape.columns[48:96]"
   ]
  },
  {
   "cell_type": "code",
   "execution_count": 10,
   "metadata": {
    "collapsed": true
   },
   "outputs": [],
   "source": [
    "yr=1971\n",
    "for i in range(1, len(loglist)):\n",
    "    \n",
    "    toydata3reshape[\"growth\"+str(yr)]=toydata3reshape[loglist[i]]-toydata3reshape[loglist[i-1]]\n",
    "    yr=yr+1"
   ]
  },
  {
   "cell_type": "code",
   "execution_count": 11,
   "metadata": {
    "collapsed": true
   },
   "outputs": [],
   "source": [
    "toy3=toydata3reshape.dropna()"
   ]
  },
  {
   "cell_type": "code",
   "execution_count": 12,
   "metadata": {},
   "outputs": [
    {
     "data": {
      "text/plain": [
       "(23, 143)"
      ]
     },
     "execution_count": 12,
     "metadata": {},
     "output_type": "execute_result"
    }
   ],
   "source": [
    "toy3.shape"
   ]
  },
  {
   "cell_type": "code",
   "execution_count": 13,
   "metadata": {},
   "outputs": [],
   "source": [
    "X=toy3.values[:,96:143]"
   ]
  },
  {
   "cell_type": "code",
   "execution_count": 14,
   "metadata": {},
   "outputs": [
    {
     "data": {
      "text/plain": [
       "False"
      ]
     },
     "execution_count": 14,
     "metadata": {},
     "output_type": "execute_result"
    }
   ],
   "source": [
    "np.any(np.isnan(X)) #later need to drop some veg, otherwise missing too many for NaN"
   ]
  },
  {
   "cell_type": "code",
   "execution_count": 15,
   "metadata": {},
   "outputs": [
    {
     "data": {
      "image/png": "[encoded data removed]",
      "text/plain": [
       "<matplotlib.figure.Figure at 0x1d4c60465c0>"
      ]
     },
     "metadata": {},
     "output_type": "display_data"
    }
   ],
   "source": [
    "gr=[]\n",
    "top=12\n",
    "for k in range(2,top):\n",
    "    clusternum=k\n",
    "    k_means=KMeans(init=\"k-means++\", n_clusters=clusternum, n_init=50)\n",
    "    k_means.fit(X)\n",
    "    err=k_means.inertia_\n",
    "    gr.append(err)\n",
    "plt.plot(np.arange(2, top), gr)\n",
    "plt.show()"
   ]
  },
  {
   "cell_type": "code",
   "execution_count": 16,
   "metadata": {
    "collapsed": true
   },
   "outputs": [],
   "source": [
    "clusternum=4\n",
    "k_means=KMeans(init=\"k-means++\", n_clusters=clusternum, n_init=50)\n",
    "k_means.fit(X)\n",
    "label=k_means.labels_"
   ]
  },
  {
   "cell_type": "code",
   "execution_count": 17,
   "metadata": {},
   "outputs": [
    {
     "name": "stderr",
     "output_type": "stream",
     "text": [
      "C:\\ProgramData\\Anaconda3\\lib\\site-packages\\ipykernel_launcher.py:1: SettingWithCopyWarning: \n",
      "A value is trying to be set on a copy of a slice from a DataFrame.\n",
      "Try using .loc[row_indexer,col_indexer] = value instead\n",
      "\n",
      "See the caveats in the documentation: http://pandas.pydata.org/pandas-docs/stable/indexing.html#indexing-view-versus-copy\n",
      "  \"\"\"Entry point for launching an IPython kernel.\n"
     ]
    }
   ],
   "source": [
    "toy3[\"grouplabel\"]=label"
   ]
  },
  {
   "cell_type": "code",
   "execution_count": 18,
   "metadata": {},
   "outputs": [
    {
     "data": {
      "text/plain": [
       "Commodityuse\n",
       "Broccoli-Fresh              3\n",
       "Broccoli-Processing         3\n",
       "Cabbage-Fresh               3\n",
       "Cabbage-Processing          0\n",
       "Carrots-Freezing            0\n",
       "Carrots-Fresh               3\n",
       "Cauliflower-Fresh           3\n",
       "Cauliflower-Processing      2\n",
       "Cucumbers-Fresh             3\n",
       "Green Lima Beans-Canning    0\n",
       "Green Peas-Canning          0\n",
       "Green Peas-Freezing         0\n",
       "Head Lettuce-Fresh          3\n",
       "Onions-Fresh                1\n",
       "Snap beans-Canning          0\n",
       "Snap beans-Freezing         0\n",
       "Snap beans-Fresh            3\n",
       "Spinach-Fresh               3\n",
       "Sweet Corn-Canning          0\n",
       "Sweet Corn-Freezing         0\n",
       "Sweet Corn-Fresh            3\n",
       "Tomatoes-Fresh              3\n",
       "Tomatoes-Processing         0\n",
       "Name: grouplabel, dtype: int32"
      ]
     },
     "execution_count": 18,
     "metadata": {},
     "output_type": "execute_result"
    }
   ],
   "source": [
    "toy3[\"grouplabel\"]"
   ]
  },
  {
   "cell_type": "code",
   "execution_count": null,
   "metadata": {
    "collapsed": true
   },
   "outputs": [],
   "source": []
  }
 ],
 "metadata": {
  "kernelspec": {
   "display_name": "Python 3",
   "language": "python",
   "name": "python3"
  },
  "language_info": {
   "codemirror_mode": {
    "name": "ipython",
    "version": 3
   },
   "file_extension": ".py",
   "mimetype": "text/x-python",
   "name": "python",
   "nbconvert_exporter": "python",
   "pygments_lexer": "ipython3",
   "version": "3.6.1"
  }
 },
 "nbformat": 4,
 "nbformat_minor": 2
}
